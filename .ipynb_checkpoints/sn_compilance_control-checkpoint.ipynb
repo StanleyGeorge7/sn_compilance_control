{
 "cells": [
  {
   "cell_type": "code",
   "execution_count": 1,
   "id": "d19f7b08",
   "metadata": {},
   "outputs": [],
   "source": [
    "import pandas as pd\n",
    "import numpy as np\n",
    "import seaborn as sns\n",
    "import plotly.express as px\n",
    "import matplotlib.pyplot as plt\n",
    "from pandasql import sqldf\n",
    "sql = lambda q: sqldf(q, globals())\n",
    "pd.set_option('display.max_colwidth', None)\n",
    "pd.set_option('display.width',None)\n",
    "pd.set_option('display.max_columns',None)\n",
    "pd.set_option('display.max_rows',None)"
   ]
  },
  {
   "cell_type": "code",
   "execution_count": 2,
   "id": "65dff9db",
   "metadata": {
    "scrolled": false
   },
   "outputs": [
    {
     "name": "stderr",
     "output_type": "stream",
     "text": [
      "C:\\Users\\STANLEY\\anaconda3\\lib\\site-packages\\openpyxl\\styles\\stylesheet.py:226: UserWarning: Workbook contains no default style, apply openpyxl's default\n",
      "  warn(\"Workbook contains no default style, apply openpyxl's default\")\n"
     ]
    },
    {
     "data": {
      "text/html": [
       "<div>\n",
       "<style scoped>\n",
       "    .dataframe tbody tr th:only-of-type {\n",
       "        vertical-align: middle;\n",
       "    }\n",
       "\n",
       "    .dataframe tbody tr th {\n",
       "        vertical-align: top;\n",
       "    }\n",
       "\n",
       "    .dataframe thead th {\n",
       "        text-align: right;\n",
       "    }\n",
       "</style>\n",
       "<table border=\"1\" class=\"dataframe\">\n",
       "  <thead>\n",
       "    <tr style=\"text-align: right;\">\n",
       "      <th></th>\n",
       "      <th>Number</th>\n",
       "      <th>Name</th>\n",
       "      <th>Profile</th>\n",
       "      <th>Owner</th>\n",
       "      <th>Policy Statement</th>\n",
       "      <th>State</th>\n",
       "      <th>Status</th>\n",
       "      <th>Exempt</th>\n",
       "      <th>Weighting</th>\n",
       "      <th>Active</th>\n",
       "      <th>Additional Information</th>\n",
       "      <th>Additional comments</th>\n",
       "      <th>Attestation</th>\n",
       "      <th>Attestation respondents</th>\n",
       "      <th>Category</th>\n",
       "      <th>Class</th>\n",
       "      <th>Classification</th>\n",
       "      <th>Created</th>\n",
       "      <th>Created Manually</th>\n",
       "      <th>Created by</th>\n",
       "      <th>Description</th>\n",
       "      <th>Domain</th>\n",
       "      <th>Domain Path</th>\n",
       "      <th>Enforcement</th>\n",
       "      <th>Frequency</th>\n",
       "      <th>From configuration check</th>\n",
       "      <th>Key control</th>\n",
       "      <th>Owning group</th>\n",
       "      <th>Profile type</th>\n",
       "      <th>Profile type.1</th>\n",
       "      <th>Source</th>\n",
       "      <th>Tags</th>\n",
       "      <th>Type</th>\n",
       "      <th>Updated</th>\n",
       "      <th>Updated by</th>\n",
       "      <th>Updates</th>\n",
       "    </tr>\n",
       "  </thead>\n",
       "  <tbody>\n",
       "    <tr>\n",
       "      <th>0</th>\n",
       "      <td>CTRL0010001</td>\n",
       "      <td>Establish and maintain identification mechanism termination procedures.</td>\n",
       "      <td>New York Datacenter</td>\n",
       "      <td>Patty Bernasconi</td>\n",
       "      <td>Establish and maintain identification mechanism termination procedures.</td>\n",
       "      <td>Monitor</td>\n",
       "      <td>Compliant</td>\n",
       "      <td>True</td>\n",
       "      <td>10.0</td>\n",
       "      <td>True</td>\n",
       "      <td>NaN</td>\n",
       "      <td>NaN</td>\n",
       "      <td>GRC Attestation</td>\n",
       "      <td>Patty Bernasconi</td>\n",
       "      <td>Physical and environmental protection</td>\n",
       "      <td>Control</td>\n",
       "      <td>Preventive</td>\n",
       "      <td>2016-07-31 16:19:45</td>\n",
       "      <td>False</td>\n",
       "      <td>admin</td>\n",
       "      <td>Establish and maintain identification mechanism termination procedures.</td>\n",
       "      <td>global</td>\n",
       "      <td>/</td>\n",
       "      <td>NaN</td>\n",
       "      <td>NaN</td>\n",
       "      <td>False</td>\n",
       "      <td>False</td>\n",
       "      <td>NaN</td>\n",
       "      <td>NaN</td>\n",
       "      <td>NaN</td>\n",
       "      <td>d85a18e70fd412004e938fbce1050e49,</td>\n",
       "      <td>NaN</td>\n",
       "      <td>Establish/Maintain Documentation</td>\n",
       "      <td>2018-01-29 18:20:47</td>\n",
       "      <td>admin</td>\n",
       "      <td>9.0</td>\n",
       "    </tr>\n",
       "    <tr>\n",
       "      <th>1</th>\n",
       "      <td>CTRL0010002</td>\n",
       "      <td>Review facility access lists.</td>\n",
       "      <td>New York Datacenter</td>\n",
       "      <td>Patty Bernasconi</td>\n",
       "      <td>Review facility access lists.</td>\n",
       "      <td>Monitor</td>\n",
       "      <td>Not Applicable</td>\n",
       "      <td>False</td>\n",
       "      <td>10.0</td>\n",
       "      <td>True</td>\n",
       "      <td>NaN</td>\n",
       "      <td>NaN</td>\n",
       "      <td>GRC Attestation</td>\n",
       "      <td>Patty Bernasconi</td>\n",
       "      <td>Physical and environmental protection</td>\n",
       "      <td>Control</td>\n",
       "      <td>Detective</td>\n",
       "      <td>2016-07-31 16:19:46</td>\n",
       "      <td>False</td>\n",
       "      <td>admin</td>\n",
       "      <td>Review facility access lists.</td>\n",
       "      <td>global</td>\n",
       "      <td>/</td>\n",
       "      <td>NaN</td>\n",
       "      <td>NaN</td>\n",
       "      <td>False</td>\n",
       "      <td>False</td>\n",
       "      <td>NaN</td>\n",
       "      <td>NaN</td>\n",
       "      <td>NaN</td>\n",
       "      <td>d85a18e70fd412004e938fbce1050e49,</td>\n",
       "      <td>NaN</td>\n",
       "      <td>Establish/Maintain Documentation</td>\n",
       "      <td>2017-02-28 12:19:33</td>\n",
       "      <td>admin</td>\n",
       "      <td>6.0</td>\n",
       "    </tr>\n",
       "    <tr>\n",
       "      <th>2</th>\n",
       "      <td>CTRL0010003</td>\n",
       "      <td>Manage access to loading docks, unloading docks, and mail rooms.</td>\n",
       "      <td>New York Datacenter</td>\n",
       "      <td>Patty Bernasconi</td>\n",
       "      <td>Manage access to loading docks, unloading docks, and mail rooms.</td>\n",
       "      <td>Monitor</td>\n",
       "      <td>Compliant</td>\n",
       "      <td>False</td>\n",
       "      <td>10.0</td>\n",
       "      <td>True</td>\n",
       "      <td>NaN</td>\n",
       "      <td>NaN</td>\n",
       "      <td>GRC Attestation</td>\n",
       "      <td>Patty Bernasconi</td>\n",
       "      <td>Physical and environmental protection</td>\n",
       "      <td>Control</td>\n",
       "      <td>Preventive</td>\n",
       "      <td>2016-07-31 16:19:46</td>\n",
       "      <td>False</td>\n",
       "      <td>admin</td>\n",
       "      <td>Manage access to loading docks, unloading docks, and mail rooms.</td>\n",
       "      <td>global</td>\n",
       "      <td>/</td>\n",
       "      <td>NaN</td>\n",
       "      <td>NaN</td>\n",
       "      <td>False</td>\n",
       "      <td>False</td>\n",
       "      <td>NaN</td>\n",
       "      <td>NaN</td>\n",
       "      <td>NaN</td>\n",
       "      <td>d85a18e70fd412004e938fbce1050e49,</td>\n",
       "      <td>NaN</td>\n",
       "      <td>Physical and Environmental Protection</td>\n",
       "      <td>2017-02-28 12:19:33</td>\n",
       "      <td>admin</td>\n",
       "      <td>6.0</td>\n",
       "    </tr>\n",
       "    <tr>\n",
       "      <th>3</th>\n",
       "      <td>CTRL0010004</td>\n",
       "      <td>Establish and maintain a visitor access permissions policy.</td>\n",
       "      <td>New York Datacenter</td>\n",
       "      <td>Patty Bernasconi</td>\n",
       "      <td>Establish and maintain a visitor access permissions policy.</td>\n",
       "      <td>Monitor</td>\n",
       "      <td>Not Applicable</td>\n",
       "      <td>False</td>\n",
       "      <td>10.0</td>\n",
       "      <td>True</td>\n",
       "      <td>NaN</td>\n",
       "      <td>NaN</td>\n",
       "      <td>GRC Attestation</td>\n",
       "      <td>Patty Bernasconi</td>\n",
       "      <td>Physical and environmental protection</td>\n",
       "      <td>Control</td>\n",
       "      <td>Preventive</td>\n",
       "      <td>2016-07-31 16:19:46</td>\n",
       "      <td>False</td>\n",
       "      <td>admin</td>\n",
       "      <td>Establish and maintain a visitor access permissions policy.</td>\n",
       "      <td>global</td>\n",
       "      <td>/</td>\n",
       "      <td>NaN</td>\n",
       "      <td>NaN</td>\n",
       "      <td>False</td>\n",
       "      <td>False</td>\n",
       "      <td>NaN</td>\n",
       "      <td>NaN</td>\n",
       "      <td>NaN</td>\n",
       "      <td>d85a18e70fd412004e938fbce1050e49,</td>\n",
       "      <td>NaN</td>\n",
       "      <td>Establish/Maintain Documentation</td>\n",
       "      <td>2017-02-28 12:19:33</td>\n",
       "      <td>admin</td>\n",
       "      <td>5.0</td>\n",
       "    </tr>\n",
       "    <tr>\n",
       "      <th>4</th>\n",
       "      <td>CTRL0010005</td>\n",
       "      <td>Use locks with electronic authentication systems or cipher locks, as necessary.</td>\n",
       "      <td>New York Datacenter</td>\n",
       "      <td>Patty Bernasconi</td>\n",
       "      <td>Use locks with electronic authentication systems or cipher locks, as necessary.</td>\n",
       "      <td>Monitor</td>\n",
       "      <td>Compliant</td>\n",
       "      <td>False</td>\n",
       "      <td>10.0</td>\n",
       "      <td>True</td>\n",
       "      <td>NaN</td>\n",
       "      <td>NaN</td>\n",
       "      <td>GRC Attestation</td>\n",
       "      <td>Patty Bernasconi</td>\n",
       "      <td>Physical and environmental protection</td>\n",
       "      <td>Control</td>\n",
       "      <td>Preventive</td>\n",
       "      <td>2016-07-31 16:19:46</td>\n",
       "      <td>False</td>\n",
       "      <td>admin</td>\n",
       "      <td>Use locks with electronic authentication systems or cipher locks, as necessary.</td>\n",
       "      <td>global</td>\n",
       "      <td>/</td>\n",
       "      <td>NaN</td>\n",
       "      <td>NaN</td>\n",
       "      <td>False</td>\n",
       "      <td>False</td>\n",
       "      <td>NaN</td>\n",
       "      <td>NaN</td>\n",
       "      <td>NaN</td>\n",
       "      <td>d85a18e70fd412004e938fbce1050e49,</td>\n",
       "      <td>NaN</td>\n",
       "      <td>Configuration</td>\n",
       "      <td>2017-02-28 12:19:33</td>\n",
       "      <td>admin</td>\n",
       "      <td>5.0</td>\n",
       "    </tr>\n",
       "  </tbody>\n",
       "</table>\n",
       "</div>"
      ],
      "text/plain": [
       "        Number  \\\n",
       "0  CTRL0010001   \n",
       "1  CTRL0010002   \n",
       "2  CTRL0010003   \n",
       "3  CTRL0010004   \n",
       "4  CTRL0010005   \n",
       "\n",
       "                                                                              Name  \\\n",
       "0          Establish and maintain identification mechanism termination procedures.   \n",
       "1                                                    Review facility access lists.   \n",
       "2                 Manage access to loading docks, unloading docks, and mail rooms.   \n",
       "3                      Establish and maintain a visitor access permissions policy.   \n",
       "4  Use locks with electronic authentication systems or cipher locks, as necessary.   \n",
       "\n",
       "               Profile             Owner  \\\n",
       "0  New York Datacenter  Patty Bernasconi   \n",
       "1  New York Datacenter  Patty Bernasconi   \n",
       "2  New York Datacenter  Patty Bernasconi   \n",
       "3  New York Datacenter  Patty Bernasconi   \n",
       "4  New York Datacenter  Patty Bernasconi   \n",
       "\n",
       "                                                                  Policy Statement  \\\n",
       "0          Establish and maintain identification mechanism termination procedures.   \n",
       "1                                                    Review facility access lists.   \n",
       "2                 Manage access to loading docks, unloading docks, and mail rooms.   \n",
       "3                      Establish and maintain a visitor access permissions policy.   \n",
       "4  Use locks with electronic authentication systems or cipher locks, as necessary.   \n",
       "\n",
       "     State          Status  Exempt  Weighting  Active  Additional Information  \\\n",
       "0  Monitor       Compliant    True       10.0    True                     NaN   \n",
       "1  Monitor  Not Applicable   False       10.0    True                     NaN   \n",
       "2  Monitor       Compliant   False       10.0    True                     NaN   \n",
       "3  Monitor  Not Applicable   False       10.0    True                     NaN   \n",
       "4  Monitor       Compliant   False       10.0    True                     NaN   \n",
       "\n",
       "   Additional comments      Attestation Attestation respondents  \\\n",
       "0                  NaN  GRC Attestation        Patty Bernasconi   \n",
       "1                  NaN  GRC Attestation        Patty Bernasconi   \n",
       "2                  NaN  GRC Attestation        Patty Bernasconi   \n",
       "3                  NaN  GRC Attestation        Patty Bernasconi   \n",
       "4                  NaN  GRC Attestation        Patty Bernasconi   \n",
       "\n",
       "                                Category    Class Classification  \\\n",
       "0  Physical and environmental protection  Control     Preventive   \n",
       "1  Physical and environmental protection  Control      Detective   \n",
       "2  Physical and environmental protection  Control     Preventive   \n",
       "3  Physical and environmental protection  Control     Preventive   \n",
       "4  Physical and environmental protection  Control     Preventive   \n",
       "\n",
       "              Created  Created Manually Created by  \\\n",
       "0 2016-07-31 16:19:45             False      admin   \n",
       "1 2016-07-31 16:19:46             False      admin   \n",
       "2 2016-07-31 16:19:46             False      admin   \n",
       "3 2016-07-31 16:19:46             False      admin   \n",
       "4 2016-07-31 16:19:46             False      admin   \n",
       "\n",
       "                                                                       Description  \\\n",
       "0          Establish and maintain identification mechanism termination procedures.   \n",
       "1                                                    Review facility access lists.   \n",
       "2                 Manage access to loading docks, unloading docks, and mail rooms.   \n",
       "3                      Establish and maintain a visitor access permissions policy.   \n",
       "4  Use locks with electronic authentication systems or cipher locks, as necessary.   \n",
       "\n",
       "   Domain Domain Path  Enforcement  Frequency  From configuration check  \\\n",
       "0  global           /          NaN        NaN                     False   \n",
       "1  global           /          NaN        NaN                     False   \n",
       "2  global           /          NaN        NaN                     False   \n",
       "3  global           /          NaN        NaN                     False   \n",
       "4  global           /          NaN        NaN                     False   \n",
       "\n",
       "   Key control  Owning group  Profile type  Profile type.1  \\\n",
       "0        False           NaN           NaN             NaN   \n",
       "1        False           NaN           NaN             NaN   \n",
       "2        False           NaN           NaN             NaN   \n",
       "3        False           NaN           NaN             NaN   \n",
       "4        False           NaN           NaN             NaN   \n",
       "\n",
       "                              Source  Tags  \\\n",
       "0  d85a18e70fd412004e938fbce1050e49,   NaN   \n",
       "1  d85a18e70fd412004e938fbce1050e49,   NaN   \n",
       "2  d85a18e70fd412004e938fbce1050e49,   NaN   \n",
       "3  d85a18e70fd412004e938fbce1050e49,   NaN   \n",
       "4  d85a18e70fd412004e938fbce1050e49,   NaN   \n",
       "\n",
       "                                    Type             Updated Updated by  \\\n",
       "0       Establish/Maintain Documentation 2018-01-29 18:20:47      admin   \n",
       "1       Establish/Maintain Documentation 2017-02-28 12:19:33      admin   \n",
       "2  Physical and Environmental Protection 2017-02-28 12:19:33      admin   \n",
       "3       Establish/Maintain Documentation 2017-02-28 12:19:33      admin   \n",
       "4                          Configuration 2017-02-28 12:19:33      admin   \n",
       "\n",
       "   Updates  \n",
       "0      9.0  \n",
       "1      6.0  \n",
       "2      6.0  \n",
       "3      5.0  \n",
       "4      5.0  "
      ]
     },
     "execution_count": 2,
     "metadata": {},
     "output_type": "execute_result"
    }
   ],
   "source": [
    "df=pd.read_excel('sn_compliance_control.xlsx')\n",
    "df.head()"
   ]
  },
  {
   "cell_type": "code",
   "execution_count": 3,
   "id": "96428b95",
   "metadata": {},
   "outputs": [
    {
     "data": {
      "text/plain": [
       "(1501, 36)"
      ]
     },
     "execution_count": 3,
     "metadata": {},
     "output_type": "execute_result"
    }
   ],
   "source": [
    "df.shape"
   ]
  },
  {
   "cell_type": "markdown",
   "id": "227f54f8",
   "metadata": {},
   "source": [
    "#### Check for null values"
   ]
  },
  {
   "cell_type": "code",
   "execution_count": 4,
   "id": "a39bbe1b",
   "metadata": {
    "scrolled": false
   },
   "outputs": [
    {
     "data": {
      "text/plain": [
       "Number                         0\n",
       "Name                           0\n",
       "Profile                        0\n",
       "Owner                          3\n",
       "Policy Statement               3\n",
       "State                          0\n",
       "Status                        27\n",
       "Exempt                         0\n",
       "Weighting                      0\n",
       "Active                         0\n",
       "Additional Information      1501\n",
       "Additional comments         1501\n",
       "Attestation                    3\n",
       "Attestation respondents        3\n",
       "Category                       3\n",
       "Class                          0\n",
       "Classification                 3\n",
       "Created                        0\n",
       "Created Manually               0\n",
       "Created by                     0\n",
       "Description                   12\n",
       "Domain                         0\n",
       "Domain Path                    0\n",
       "Enforcement                 1501\n",
       "Frequency                   1501\n",
       "From configuration check       0\n",
       "Key control                    0\n",
       "Owning group                1501\n",
       "Profile type                1501\n",
       "Profile type.1              1501\n",
       "Source                        13\n",
       "Tags                        1501\n",
       "Type                           3\n",
       "Updated                        0\n",
       "Updated by                     0\n",
       "Updates                        0\n",
       "dtype: int64"
      ]
     },
     "execution_count": 4,
     "metadata": {},
     "output_type": "execute_result"
    }
   ],
   "source": [
    "df.isnull().sum()"
   ]
  },
  {
   "cell_type": "markdown",
   "id": "e5b9d2b4",
   "metadata": {},
   "source": [
    "#### Removing columns which is completely null"
   ]
  },
  {
   "cell_type": "code",
   "execution_count": 5,
   "id": "f0bda078",
   "metadata": {},
   "outputs": [],
   "source": [
    "drop_cols=df.columns[df.isnull().sum() ==1501]\n",
    "df.drop(drop_cols,axis=1,inplace=True)"
   ]
  },
  {
   "cell_type": "code",
   "execution_count": 6,
   "id": "20caec9d",
   "metadata": {},
   "outputs": [],
   "source": [
    "#Since Name,Description and Policy statement are having same values we are replacing\n",
    "df.Description.fillna(df.Name,inplace=True)"
   ]
  },
  {
   "cell_type": "code",
   "execution_count": 7,
   "id": "7ad81fdb",
   "metadata": {},
   "outputs": [
    {
     "data": {
      "text/plain": [
       "Number                       0\n",
       "Name                         0\n",
       "Profile                      0\n",
       "Owner                        3\n",
       "Policy Statement             3\n",
       "State                        0\n",
       "Status                      27\n",
       "Exempt                       0\n",
       "Weighting                    0\n",
       "Active                       0\n",
       "Attestation                  3\n",
       "Attestation respondents      3\n",
       "Category                     3\n",
       "Class                        0\n",
       "Classification               3\n",
       "Created                      0\n",
       "Created Manually             0\n",
       "Created by                   0\n",
       "Description                  0\n",
       "Domain                       0\n",
       "Domain Path                  0\n",
       "From configuration check     0\n",
       "Key control                  0\n",
       "Source                      13\n",
       "Type                         3\n",
       "Updated                      0\n",
       "Updated by                   0\n",
       "Updates                      0\n",
       "dtype: int64"
      ]
     },
     "execution_count": 7,
     "metadata": {},
     "output_type": "execute_result"
    }
   ],
   "source": [
    "df.isnull().sum()"
   ]
  },
  {
   "cell_type": "code",
   "execution_count": 25,
   "id": "3a1b8c4a",
   "metadata": {
    "scrolled": false
   },
   "outputs": [],
   "source": [
    "df_new = sql('select * from df where Status is not null and Source is not null and classification is not null ')"
   ]
  },
  {
   "cell_type": "code",
   "execution_count": 26,
   "id": "0b35436c",
   "metadata": {},
   "outputs": [
    {
     "data": {
      "text/plain": [
       "Number                      0\n",
       "Name                        0\n",
       "Profile                     0\n",
       "Owner                       0\n",
       "Policy Statement            0\n",
       "State                       0\n",
       "Status                      0\n",
       "Exempt                      0\n",
       "Weighting                   0\n",
       "Active                      0\n",
       "Attestation                 0\n",
       "Attestation respondents     0\n",
       "Category                    0\n",
       "Class                       0\n",
       "Classification              0\n",
       "Created                     0\n",
       "Created Manually            0\n",
       "Created by                  0\n",
       "Description                 0\n",
       "Domain                      0\n",
       "Domain Path                 0\n",
       "From configuration check    0\n",
       "Key control                 0\n",
       "Source                      0\n",
       "Type                        0\n",
       "Updated                     0\n",
       "Updated by                  0\n",
       "Updates                     0\n",
       "dtype: int64"
      ]
     },
     "execution_count": 26,
     "metadata": {},
     "output_type": "execute_result"
    }
   ],
   "source": [
    "df_new.isnull().sum() "
   ]
  },
  {
   "cell_type": "code",
   "execution_count": 27,
   "id": "f22c3a20",
   "metadata": {
    "scrolled": true
   },
   "outputs": [
    {
     "data": {
      "text/html": [
       "<div>\n",
       "<style scoped>\n",
       "    .dataframe tbody tr th:only-of-type {\n",
       "        vertical-align: middle;\n",
       "    }\n",
       "\n",
       "    .dataframe tbody tr th {\n",
       "        vertical-align: top;\n",
       "    }\n",
       "\n",
       "    .dataframe thead th {\n",
       "        text-align: right;\n",
       "    }\n",
       "</style>\n",
       "<table border=\"1\" class=\"dataframe\">\n",
       "  <thead>\n",
       "    <tr style=\"text-align: right;\">\n",
       "      <th></th>\n",
       "      <th>Number</th>\n",
       "      <th>Name</th>\n",
       "      <th>Profile</th>\n",
       "      <th>Owner</th>\n",
       "      <th>Policy Statement</th>\n",
       "      <th>State</th>\n",
       "      <th>Status</th>\n",
       "      <th>Exempt</th>\n",
       "      <th>Weighting</th>\n",
       "      <th>Active</th>\n",
       "      <th>Attestation</th>\n",
       "      <th>Attestation respondents</th>\n",
       "      <th>Category</th>\n",
       "      <th>Class</th>\n",
       "      <th>Classification</th>\n",
       "      <th>Created</th>\n",
       "      <th>Created Manually</th>\n",
       "      <th>Created by</th>\n",
       "      <th>Description</th>\n",
       "      <th>Domain</th>\n",
       "      <th>Domain Path</th>\n",
       "      <th>From configuration check</th>\n",
       "      <th>Key control</th>\n",
       "      <th>Source</th>\n",
       "      <th>Type</th>\n",
       "      <th>Updated</th>\n",
       "      <th>Updated by</th>\n",
       "      <th>Updates</th>\n",
       "    </tr>\n",
       "  </thead>\n",
       "  <tbody>\n",
       "    <tr>\n",
       "      <th>0</th>\n",
       "      <td>CTRL0010001</td>\n",
       "      <td>Establish and maintain identification mechanism termination procedures.</td>\n",
       "      <td>New York Datacenter</td>\n",
       "      <td>Patty Bernasconi</td>\n",
       "      <td>Establish and maintain identification mechanism termination procedures.</td>\n",
       "      <td>Monitor</td>\n",
       "      <td>Compliant</td>\n",
       "      <td>1</td>\n",
       "      <td>10.0</td>\n",
       "      <td>1</td>\n",
       "      <td>GRC Attestation</td>\n",
       "      <td>Patty Bernasconi</td>\n",
       "      <td>Physical and environmental protection</td>\n",
       "      <td>Control</td>\n",
       "      <td>Preventive</td>\n",
       "      <td>2016-07-31 16:19:45.000000</td>\n",
       "      <td>0</td>\n",
       "      <td>admin</td>\n",
       "      <td>Establish and maintain identification mechanism termination procedures.</td>\n",
       "      <td>global</td>\n",
       "      <td>/</td>\n",
       "      <td>0</td>\n",
       "      <td>0</td>\n",
       "      <td>d85a18e70fd412004e938fbce1050e49,</td>\n",
       "      <td>Establish/Maintain Documentation</td>\n",
       "      <td>2018-01-29 18:20:47.000000</td>\n",
       "      <td>admin</td>\n",
       "      <td>9.0</td>\n",
       "    </tr>\n",
       "    <tr>\n",
       "      <th>1</th>\n",
       "      <td>CTRL0010002</td>\n",
       "      <td>Review facility access lists.</td>\n",
       "      <td>New York Datacenter</td>\n",
       "      <td>Patty Bernasconi</td>\n",
       "      <td>Review facility access lists.</td>\n",
       "      <td>Monitor</td>\n",
       "      <td>Not Applicable</td>\n",
       "      <td>0</td>\n",
       "      <td>10.0</td>\n",
       "      <td>1</td>\n",
       "      <td>GRC Attestation</td>\n",
       "      <td>Patty Bernasconi</td>\n",
       "      <td>Physical and environmental protection</td>\n",
       "      <td>Control</td>\n",
       "      <td>Detective</td>\n",
       "      <td>2016-07-31 16:19:46.000000</td>\n",
       "      <td>0</td>\n",
       "      <td>admin</td>\n",
       "      <td>Review facility access lists.</td>\n",
       "      <td>global</td>\n",
       "      <td>/</td>\n",
       "      <td>0</td>\n",
       "      <td>0</td>\n",
       "      <td>d85a18e70fd412004e938fbce1050e49,</td>\n",
       "      <td>Establish/Maintain Documentation</td>\n",
       "      <td>2017-02-28 12:19:33.000000</td>\n",
       "      <td>admin</td>\n",
       "      <td>6.0</td>\n",
       "    </tr>\n",
       "    <tr>\n",
       "      <th>2</th>\n",
       "      <td>CTRL0010003</td>\n",
       "      <td>Manage access to loading docks, unloading docks, and mail rooms.</td>\n",
       "      <td>New York Datacenter</td>\n",
       "      <td>Patty Bernasconi</td>\n",
       "      <td>Manage access to loading docks, unloading docks, and mail rooms.</td>\n",
       "      <td>Monitor</td>\n",
       "      <td>Compliant</td>\n",
       "      <td>0</td>\n",
       "      <td>10.0</td>\n",
       "      <td>1</td>\n",
       "      <td>GRC Attestation</td>\n",
       "      <td>Patty Bernasconi</td>\n",
       "      <td>Physical and environmental protection</td>\n",
       "      <td>Control</td>\n",
       "      <td>Preventive</td>\n",
       "      <td>2016-07-31 16:19:46.000000</td>\n",
       "      <td>0</td>\n",
       "      <td>admin</td>\n",
       "      <td>Manage access to loading docks, unloading docks, and mail rooms.</td>\n",
       "      <td>global</td>\n",
       "      <td>/</td>\n",
       "      <td>0</td>\n",
       "      <td>0</td>\n",
       "      <td>d85a18e70fd412004e938fbce1050e49,</td>\n",
       "      <td>Physical and Environmental Protection</td>\n",
       "      <td>2017-02-28 12:19:33.000000</td>\n",
       "      <td>admin</td>\n",
       "      <td>6.0</td>\n",
       "    </tr>\n",
       "    <tr>\n",
       "      <th>3</th>\n",
       "      <td>CTRL0010004</td>\n",
       "      <td>Establish and maintain a visitor access permissions policy.</td>\n",
       "      <td>New York Datacenter</td>\n",
       "      <td>Patty Bernasconi</td>\n",
       "      <td>Establish and maintain a visitor access permissions policy.</td>\n",
       "      <td>Monitor</td>\n",
       "      <td>Not Applicable</td>\n",
       "      <td>0</td>\n",
       "      <td>10.0</td>\n",
       "      <td>1</td>\n",
       "      <td>GRC Attestation</td>\n",
       "      <td>Patty Bernasconi</td>\n",
       "      <td>Physical and environmental protection</td>\n",
       "      <td>Control</td>\n",
       "      <td>Preventive</td>\n",
       "      <td>2016-07-31 16:19:46.000000</td>\n",
       "      <td>0</td>\n",
       "      <td>admin</td>\n",
       "      <td>Establish and maintain a visitor access permissions policy.</td>\n",
       "      <td>global</td>\n",
       "      <td>/</td>\n",
       "      <td>0</td>\n",
       "      <td>0</td>\n",
       "      <td>d85a18e70fd412004e938fbce1050e49,</td>\n",
       "      <td>Establish/Maintain Documentation</td>\n",
       "      <td>2017-02-28 12:19:33.000000</td>\n",
       "      <td>admin</td>\n",
       "      <td>5.0</td>\n",
       "    </tr>\n",
       "    <tr>\n",
       "      <th>4</th>\n",
       "      <td>CTRL0010005</td>\n",
       "      <td>Use locks with electronic authentication systems or cipher locks, as necessary.</td>\n",
       "      <td>New York Datacenter</td>\n",
       "      <td>Patty Bernasconi</td>\n",
       "      <td>Use locks with electronic authentication systems or cipher locks, as necessary.</td>\n",
       "      <td>Monitor</td>\n",
       "      <td>Compliant</td>\n",
       "      <td>0</td>\n",
       "      <td>10.0</td>\n",
       "      <td>1</td>\n",
       "      <td>GRC Attestation</td>\n",
       "      <td>Patty Bernasconi</td>\n",
       "      <td>Physical and environmental protection</td>\n",
       "      <td>Control</td>\n",
       "      <td>Preventive</td>\n",
       "      <td>2016-07-31 16:19:46.000000</td>\n",
       "      <td>0</td>\n",
       "      <td>admin</td>\n",
       "      <td>Use locks with electronic authentication systems or cipher locks, as necessary.</td>\n",
       "      <td>global</td>\n",
       "      <td>/</td>\n",
       "      <td>0</td>\n",
       "      <td>0</td>\n",
       "      <td>d85a18e70fd412004e938fbce1050e49,</td>\n",
       "      <td>Configuration</td>\n",
       "      <td>2017-02-28 12:19:33.000000</td>\n",
       "      <td>admin</td>\n",
       "      <td>5.0</td>\n",
       "    </tr>\n",
       "  </tbody>\n",
       "</table>\n",
       "</div>"
      ],
      "text/plain": [
       "        Number  \\\n",
       "0  CTRL0010001   \n",
       "1  CTRL0010002   \n",
       "2  CTRL0010003   \n",
       "3  CTRL0010004   \n",
       "4  CTRL0010005   \n",
       "\n",
       "                                                                              Name  \\\n",
       "0          Establish and maintain identification mechanism termination procedures.   \n",
       "1                                                    Review facility access lists.   \n",
       "2                 Manage access to loading docks, unloading docks, and mail rooms.   \n",
       "3                      Establish and maintain a visitor access permissions policy.   \n",
       "4  Use locks with electronic authentication systems or cipher locks, as necessary.   \n",
       "\n",
       "               Profile             Owner  \\\n",
       "0  New York Datacenter  Patty Bernasconi   \n",
       "1  New York Datacenter  Patty Bernasconi   \n",
       "2  New York Datacenter  Patty Bernasconi   \n",
       "3  New York Datacenter  Patty Bernasconi   \n",
       "4  New York Datacenter  Patty Bernasconi   \n",
       "\n",
       "                                                                  Policy Statement  \\\n",
       "0          Establish and maintain identification mechanism termination procedures.   \n",
       "1                                                    Review facility access lists.   \n",
       "2                 Manage access to loading docks, unloading docks, and mail rooms.   \n",
       "3                      Establish and maintain a visitor access permissions policy.   \n",
       "4  Use locks with electronic authentication systems or cipher locks, as necessary.   \n",
       "\n",
       "     State          Status  Exempt  Weighting  Active      Attestation  \\\n",
       "0  Monitor       Compliant       1       10.0       1  GRC Attestation   \n",
       "1  Monitor  Not Applicable       0       10.0       1  GRC Attestation   \n",
       "2  Monitor       Compliant       0       10.0       1  GRC Attestation   \n",
       "3  Monitor  Not Applicable       0       10.0       1  GRC Attestation   \n",
       "4  Monitor       Compliant       0       10.0       1  GRC Attestation   \n",
       "\n",
       "  Attestation respondents                               Category    Class  \\\n",
       "0        Patty Bernasconi  Physical and environmental protection  Control   \n",
       "1        Patty Bernasconi  Physical and environmental protection  Control   \n",
       "2        Patty Bernasconi  Physical and environmental protection  Control   \n",
       "3        Patty Bernasconi  Physical and environmental protection  Control   \n",
       "4        Patty Bernasconi  Physical and environmental protection  Control   \n",
       "\n",
       "  Classification                     Created  Created Manually Created by  \\\n",
       "0     Preventive  2016-07-31 16:19:45.000000                 0      admin   \n",
       "1      Detective  2016-07-31 16:19:46.000000                 0      admin   \n",
       "2     Preventive  2016-07-31 16:19:46.000000                 0      admin   \n",
       "3     Preventive  2016-07-31 16:19:46.000000                 0      admin   \n",
       "4     Preventive  2016-07-31 16:19:46.000000                 0      admin   \n",
       "\n",
       "                                                                       Description  \\\n",
       "0          Establish and maintain identification mechanism termination procedures.   \n",
       "1                                                    Review facility access lists.   \n",
       "2                 Manage access to loading docks, unloading docks, and mail rooms.   \n",
       "3                      Establish and maintain a visitor access permissions policy.   \n",
       "4  Use locks with electronic authentication systems or cipher locks, as necessary.   \n",
       "\n",
       "   Domain Domain Path  From configuration check  Key control  \\\n",
       "0  global           /                         0            0   \n",
       "1  global           /                         0            0   \n",
       "2  global           /                         0            0   \n",
       "3  global           /                         0            0   \n",
       "4  global           /                         0            0   \n",
       "\n",
       "                              Source                                   Type  \\\n",
       "0  d85a18e70fd412004e938fbce1050e49,       Establish/Maintain Documentation   \n",
       "1  d85a18e70fd412004e938fbce1050e49,       Establish/Maintain Documentation   \n",
       "2  d85a18e70fd412004e938fbce1050e49,  Physical and Environmental Protection   \n",
       "3  d85a18e70fd412004e938fbce1050e49,       Establish/Maintain Documentation   \n",
       "4  d85a18e70fd412004e938fbce1050e49,                          Configuration   \n",
       "\n",
       "                      Updated Updated by  Updates  \n",
       "0  2018-01-29 18:20:47.000000      admin      9.0  \n",
       "1  2017-02-28 12:19:33.000000      admin      6.0  \n",
       "2  2017-02-28 12:19:33.000000      admin      6.0  \n",
       "3  2017-02-28 12:19:33.000000      admin      5.0  \n",
       "4  2017-02-28 12:19:33.000000      admin      5.0  "
      ]
     },
     "execution_count": 27,
     "metadata": {},
     "output_type": "execute_result"
    }
   ],
   "source": [
    "df_new.head()"
   ]
  },
  {
   "cell_type": "code",
   "execution_count": 30,
   "id": "add055ec",
   "metadata": {},
   "outputs": [],
   "source": [
    "X=df_new[['Name','Profile','Owner','State','Status','Active','Attestation','Category','Class','Classification']]\n",
    "y=df_new['Classification']"
   ]
  },
  {
   "cell_type": "code",
   "execution_count": null,
   "id": "5416a3e0",
   "metadata": {},
   "outputs": [],
   "source": []
  },
  {
   "cell_type": "code",
   "execution_count": 35,
   "id": "0432015d",
   "metadata": {},
   "outputs": [
    {
     "data": {
      "application/vnd.plotly.v1+json": {
       "config": {
        "plotlyServerURL": "https://plot.ly"
       },
       "data": [
        {
         "alignmentgroup": "True",
         "hovertemplate": "Classification=Detective<br>Status=%{x}<br>count=%{y}<extra></extra>",
         "legendgroup": "Detective",
         "marker": {
          "color": "#636efa",
          "pattern": {
           "shape": ""
          }
         },
         "name": "Detective",
         "offsetgroup": "Detective",
         "orientation": "v",
         "showlegend": true,
         "textposition": "auto",
         "type": "bar",
         "x": [
          "Compliant",
          "Non Compliant",
          "Not Applicable"
         ],
         "xaxis": "x",
         "y": [
          167,
          4,
          3
         ],
         "yaxis": "y"
        },
        {
         "alignmentgroup": "True",
         "hovertemplate": "Classification=Preventive<br>Status=%{x}<br>count=%{y}<extra></extra>",
         "legendgroup": "Preventive",
         "marker": {
          "color": "#EF553B",
          "pattern": {
           "shape": ""
          }
         },
         "name": "Preventive",
         "offsetgroup": "Preventive",
         "orientation": "v",
         "showlegend": true,
         "textposition": "auto",
         "type": "bar",
         "x": [
          "Compliant",
          "Non Compliant",
          "Not Applicable"
         ],
         "xaxis": "x",
         "y": [
          1138,
          95,
          57
         ],
         "yaxis": "y"
        }
       ],
       "layout": {
        "barmode": "relative",
        "legend": {
         "title": {
          "text": "Classification"
         },
         "tracegroupgap": 0
        },
        "margin": {
         "t": 60
        },
        "template": {
         "data": {
          "bar": [
           {
            "error_x": {
             "color": "#2a3f5f"
            },
            "error_y": {
             "color": "#2a3f5f"
            },
            "marker": {
             "line": {
              "color": "#E5ECF6",
              "width": 0.5
             },
             "pattern": {
              "fillmode": "overlay",
              "size": 10,
              "solidity": 0.2
             }
            },
            "type": "bar"
           }
          ],
          "barpolar": [
           {
            "marker": {
             "line": {
              "color": "#E5ECF6",
              "width": 0.5
             },
             "pattern": {
              "fillmode": "overlay",
              "size": 10,
              "solidity": 0.2
             }
            },
            "type": "barpolar"
           }
          ],
          "carpet": [
           {
            "aaxis": {
             "endlinecolor": "#2a3f5f",
             "gridcolor": "white",
             "linecolor": "white",
             "minorgridcolor": "white",
             "startlinecolor": "#2a3f5f"
            },
            "baxis": {
             "endlinecolor": "#2a3f5f",
             "gridcolor": "white",
             "linecolor": "white",
             "minorgridcolor": "white",
             "startlinecolor": "#2a3f5f"
            },
            "type": "carpet"
           }
          ],
          "choropleth": [
           {
            "colorbar": {
             "outlinewidth": 0,
             "ticks": ""
            },
            "type": "choropleth"
           }
          ],
          "contour": [
           {
            "colorbar": {
             "outlinewidth": 0,
             "ticks": ""
            },
            "colorscale": [
             [
              0,
              "#0d0887"
             ],
             [
              0.1111111111111111,
              "#46039f"
             ],
             [
              0.2222222222222222,
              "#7201a8"
             ],
             [
              0.3333333333333333,
              "#9c179e"
             ],
             [
              0.4444444444444444,
              "#bd3786"
             ],
             [
              0.5555555555555556,
              "#d8576b"
             ],
             [
              0.6666666666666666,
              "#ed7953"
             ],
             [
              0.7777777777777778,
              "#fb9f3a"
             ],
             [
              0.8888888888888888,
              "#fdca26"
             ],
             [
              1,
              "#f0f921"
             ]
            ],
            "type": "contour"
           }
          ],
          "contourcarpet": [
           {
            "colorbar": {
             "outlinewidth": 0,
             "ticks": ""
            },
            "type": "contourcarpet"
           }
          ],
          "heatmap": [
           {
            "colorbar": {
             "outlinewidth": 0,
             "ticks": ""
            },
            "colorscale": [
             [
              0,
              "#0d0887"
             ],
             [
              0.1111111111111111,
              "#46039f"
             ],
             [
              0.2222222222222222,
              "#7201a8"
             ],
             [
              0.3333333333333333,
              "#9c179e"
             ],
             [
              0.4444444444444444,
              "#bd3786"
             ],
             [
              0.5555555555555556,
              "#d8576b"
             ],
             [
              0.6666666666666666,
              "#ed7953"
             ],
             [
              0.7777777777777778,
              "#fb9f3a"
             ],
             [
              0.8888888888888888,
              "#fdca26"
             ],
             [
              1,
              "#f0f921"
             ]
            ],
            "type": "heatmap"
           }
          ],
          "heatmapgl": [
           {
            "colorbar": {
             "outlinewidth": 0,
             "ticks": ""
            },
            "colorscale": [
             [
              0,
              "#0d0887"
             ],
             [
              0.1111111111111111,
              "#46039f"
             ],
             [
              0.2222222222222222,
              "#7201a8"
             ],
             [
              0.3333333333333333,
              "#9c179e"
             ],
             [
              0.4444444444444444,
              "#bd3786"
             ],
             [
              0.5555555555555556,
              "#d8576b"
             ],
             [
              0.6666666666666666,
              "#ed7953"
             ],
             [
              0.7777777777777778,
              "#fb9f3a"
             ],
             [
              0.8888888888888888,
              "#fdca26"
             ],
             [
              1,
              "#f0f921"
             ]
            ],
            "type": "heatmapgl"
           }
          ],
          "histogram": [
           {
            "marker": {
             "pattern": {
              "fillmode": "overlay",
              "size": 10,
              "solidity": 0.2
             }
            },
            "type": "histogram"
           }
          ],
          "histogram2d": [
           {
            "colorbar": {
             "outlinewidth": 0,
             "ticks": ""
            },
            "colorscale": [
             [
              0,
              "#0d0887"
             ],
             [
              0.1111111111111111,
              "#46039f"
             ],
             [
              0.2222222222222222,
              "#7201a8"
             ],
             [
              0.3333333333333333,
              "#9c179e"
             ],
             [
              0.4444444444444444,
              "#bd3786"
             ],
             [
              0.5555555555555556,
              "#d8576b"
             ],
             [
              0.6666666666666666,
              "#ed7953"
             ],
             [
              0.7777777777777778,
              "#fb9f3a"
             ],
             [
              0.8888888888888888,
              "#fdca26"
             ],
             [
              1,
              "#f0f921"
             ]
            ],
            "type": "histogram2d"
           }
          ],
          "histogram2dcontour": [
           {
            "colorbar": {
             "outlinewidth": 0,
             "ticks": ""
            },
            "colorscale": [
             [
              0,
              "#0d0887"
             ],
             [
              0.1111111111111111,
              "#46039f"
             ],
             [
              0.2222222222222222,
              "#7201a8"
             ],
             [
              0.3333333333333333,
              "#9c179e"
             ],
             [
              0.4444444444444444,
              "#bd3786"
             ],
             [
              0.5555555555555556,
              "#d8576b"
             ],
             [
              0.6666666666666666,
              "#ed7953"
             ],
             [
              0.7777777777777778,
              "#fb9f3a"
             ],
             [
              0.8888888888888888,
              "#fdca26"
             ],
             [
              1,
              "#f0f921"
             ]
            ],
            "type": "histogram2dcontour"
           }
          ],
          "mesh3d": [
           {
            "colorbar": {
             "outlinewidth": 0,
             "ticks": ""
            },
            "type": "mesh3d"
           }
          ],
          "parcoords": [
           {
            "line": {
             "colorbar": {
              "outlinewidth": 0,
              "ticks": ""
             }
            },
            "type": "parcoords"
           }
          ],
          "pie": [
           {
            "automargin": true,
            "type": "pie"
           }
          ],
          "scatter": [
           {
            "marker": {
             "colorbar": {
              "outlinewidth": 0,
              "ticks": ""
             }
            },
            "type": "scatter"
           }
          ],
          "scatter3d": [
           {
            "line": {
             "colorbar": {
              "outlinewidth": 0,
              "ticks": ""
             }
            },
            "marker": {
             "colorbar": {
              "outlinewidth": 0,
              "ticks": ""
             }
            },
            "type": "scatter3d"
           }
          ],
          "scattercarpet": [
           {
            "marker": {
             "colorbar": {
              "outlinewidth": 0,
              "ticks": ""
             }
            },
            "type": "scattercarpet"
           }
          ],
          "scattergeo": [
           {
            "marker": {
             "colorbar": {
              "outlinewidth": 0,
              "ticks": ""
             }
            },
            "type": "scattergeo"
           }
          ],
          "scattergl": [
           {
            "marker": {
             "colorbar": {
              "outlinewidth": 0,
              "ticks": ""
             }
            },
            "type": "scattergl"
           }
          ],
          "scattermapbox": [
           {
            "marker": {
             "colorbar": {
              "outlinewidth": 0,
              "ticks": ""
             }
            },
            "type": "scattermapbox"
           }
          ],
          "scatterpolar": [
           {
            "marker": {
             "colorbar": {
              "outlinewidth": 0,
              "ticks": ""
             }
            },
            "type": "scatterpolar"
           }
          ],
          "scatterpolargl": [
           {
            "marker": {
             "colorbar": {
              "outlinewidth": 0,
              "ticks": ""
             }
            },
            "type": "scatterpolargl"
           }
          ],
          "scatterternary": [
           {
            "marker": {
             "colorbar": {
              "outlinewidth": 0,
              "ticks": ""
             }
            },
            "type": "scatterternary"
           }
          ],
          "surface": [
           {
            "colorbar": {
             "outlinewidth": 0,
             "ticks": ""
            },
            "colorscale": [
             [
              0,
              "#0d0887"
             ],
             [
              0.1111111111111111,
              "#46039f"
             ],
             [
              0.2222222222222222,
              "#7201a8"
             ],
             [
              0.3333333333333333,
              "#9c179e"
             ],
             [
              0.4444444444444444,
              "#bd3786"
             ],
             [
              0.5555555555555556,
              "#d8576b"
             ],
             [
              0.6666666666666666,
              "#ed7953"
             ],
             [
              0.7777777777777778,
              "#fb9f3a"
             ],
             [
              0.8888888888888888,
              "#fdca26"
             ],
             [
              1,
              "#f0f921"
             ]
            ],
            "type": "surface"
           }
          ],
          "table": [
           {
            "cells": {
             "fill": {
              "color": "#EBF0F8"
             },
             "line": {
              "color": "white"
             }
            },
            "header": {
             "fill": {
              "color": "#C8D4E3"
             },
             "line": {
              "color": "white"
             }
            },
            "type": "table"
           }
          ]
         },
         "layout": {
          "annotationdefaults": {
           "arrowcolor": "#2a3f5f",
           "arrowhead": 0,
           "arrowwidth": 1
          },
          "autotypenumbers": "strict",
          "coloraxis": {
           "colorbar": {
            "outlinewidth": 0,
            "ticks": ""
           }
          },
          "colorscale": {
           "diverging": [
            [
             0,
             "#8e0152"
            ],
            [
             0.1,
             "#c51b7d"
            ],
            [
             0.2,
             "#de77ae"
            ],
            [
             0.3,
             "#f1b6da"
            ],
            [
             0.4,
             "#fde0ef"
            ],
            [
             0.5,
             "#f7f7f7"
            ],
            [
             0.6,
             "#e6f5d0"
            ],
            [
             0.7,
             "#b8e186"
            ],
            [
             0.8,
             "#7fbc41"
            ],
            [
             0.9,
             "#4d9221"
            ],
            [
             1,
             "#276419"
            ]
           ],
           "sequential": [
            [
             0,
             "#0d0887"
            ],
            [
             0.1111111111111111,
             "#46039f"
            ],
            [
             0.2222222222222222,
             "#7201a8"
            ],
            [
             0.3333333333333333,
             "#9c179e"
            ],
            [
             0.4444444444444444,
             "#bd3786"
            ],
            [
             0.5555555555555556,
             "#d8576b"
            ],
            [
             0.6666666666666666,
             "#ed7953"
            ],
            [
             0.7777777777777778,
             "#fb9f3a"
            ],
            [
             0.8888888888888888,
             "#fdca26"
            ],
            [
             1,
             "#f0f921"
            ]
           ],
           "sequentialminus": [
            [
             0,
             "#0d0887"
            ],
            [
             0.1111111111111111,
             "#46039f"
            ],
            [
             0.2222222222222222,
             "#7201a8"
            ],
            [
             0.3333333333333333,
             "#9c179e"
            ],
            [
             0.4444444444444444,
             "#bd3786"
            ],
            [
             0.5555555555555556,
             "#d8576b"
            ],
            [
             0.6666666666666666,
             "#ed7953"
            ],
            [
             0.7777777777777778,
             "#fb9f3a"
            ],
            [
             0.8888888888888888,
             "#fdca26"
            ],
            [
             1,
             "#f0f921"
            ]
           ]
          },
          "colorway": [
           "#636efa",
           "#EF553B",
           "#00cc96",
           "#ab63fa",
           "#FFA15A",
           "#19d3f3",
           "#FF6692",
           "#B6E880",
           "#FF97FF",
           "#FECB52"
          ],
          "font": {
           "color": "#2a3f5f"
          },
          "geo": {
           "bgcolor": "white",
           "lakecolor": "white",
           "landcolor": "#E5ECF6",
           "showlakes": true,
           "showland": true,
           "subunitcolor": "white"
          },
          "hoverlabel": {
           "align": "left"
          },
          "hovermode": "closest",
          "mapbox": {
           "style": "light"
          },
          "paper_bgcolor": "white",
          "plot_bgcolor": "#E5ECF6",
          "polar": {
           "angularaxis": {
            "gridcolor": "white",
            "linecolor": "white",
            "ticks": ""
           },
           "bgcolor": "#E5ECF6",
           "radialaxis": {
            "gridcolor": "white",
            "linecolor": "white",
            "ticks": ""
           }
          },
          "scene": {
           "xaxis": {
            "backgroundcolor": "#E5ECF6",
            "gridcolor": "white",
            "gridwidth": 2,
            "linecolor": "white",
            "showbackground": true,
            "ticks": "",
            "zerolinecolor": "white"
           },
           "yaxis": {
            "backgroundcolor": "#E5ECF6",
            "gridcolor": "white",
            "gridwidth": 2,
            "linecolor": "white",
            "showbackground": true,
            "ticks": "",
            "zerolinecolor": "white"
           },
           "zaxis": {
            "backgroundcolor": "#E5ECF6",
            "gridcolor": "white",
            "gridwidth": 2,
            "linecolor": "white",
            "showbackground": true,
            "ticks": "",
            "zerolinecolor": "white"
           }
          },
          "shapedefaults": {
           "line": {
            "color": "#2a3f5f"
           }
          },
          "ternary": {
           "aaxis": {
            "gridcolor": "white",
            "linecolor": "white",
            "ticks": ""
           },
           "baxis": {
            "gridcolor": "white",
            "linecolor": "white",
            "ticks": ""
           },
           "bgcolor": "#E5ECF6",
           "caxis": {
            "gridcolor": "white",
            "linecolor": "white",
            "ticks": ""
           }
          },
          "title": {
           "x": 0.05
          },
          "xaxis": {
           "automargin": true,
           "gridcolor": "white",
           "linecolor": "white",
           "ticks": "",
           "title": {
            "standoff": 15
           },
           "zerolinecolor": "white",
           "zerolinewidth": 2
          },
          "yaxis": {
           "automargin": true,
           "gridcolor": "white",
           "linecolor": "white",
           "ticks": "",
           "title": {
            "standoff": 15
           },
           "zerolinecolor": "white",
           "zerolinewidth": 2
          }
         }
        },
        "xaxis": {
         "anchor": "y",
         "domain": [
          0,
          1
         ],
         "title": {
          "text": "Status"
         }
        },
        "yaxis": {
         "anchor": "x",
         "domain": [
          0,
          1
         ],
         "title": {
          "text": "count"
         }
        }
       }
      },
      "text/html": [
       "<div>                            <div id=\"1b7bf0f2-84bf-469c-bd37-c0afe9cdc1b6\" class=\"plotly-graph-div\" style=\"height:525px; width:100%;\"></div>            <script type=\"text/javascript\">                require([\"plotly\"], function(Plotly) {                    window.PLOTLYENV=window.PLOTLYENV || {};                                    if (document.getElementById(\"1b7bf0f2-84bf-469c-bd37-c0afe9cdc1b6\")) {                    Plotly.newPlot(                        \"1b7bf0f2-84bf-469c-bd37-c0afe9cdc1b6\",                        [{\"alignmentgroup\":\"True\",\"hovertemplate\":\"Classification=Detective<br>Status=%{x}<br>count=%{y}<extra></extra>\",\"legendgroup\":\"Detective\",\"marker\":{\"color\":\"#636efa\",\"pattern\":{\"shape\":\"\"}},\"name\":\"Detective\",\"offsetgroup\":\"Detective\",\"orientation\":\"v\",\"showlegend\":true,\"textposition\":\"auto\",\"x\":[\"Compliant\",\"Non Compliant\",\"Not Applicable\"],\"xaxis\":\"x\",\"y\":[167,4,3],\"yaxis\":\"y\",\"type\":\"bar\"},{\"alignmentgroup\":\"True\",\"hovertemplate\":\"Classification=Preventive<br>Status=%{x}<br>count=%{y}<extra></extra>\",\"legendgroup\":\"Preventive\",\"marker\":{\"color\":\"#EF553B\",\"pattern\":{\"shape\":\"\"}},\"name\":\"Preventive\",\"offsetgroup\":\"Preventive\",\"orientation\":\"v\",\"showlegend\":true,\"textposition\":\"auto\",\"x\":[\"Compliant\",\"Non Compliant\",\"Not Applicable\"],\"xaxis\":\"x\",\"y\":[1138,95,57],\"yaxis\":\"y\",\"type\":\"bar\"}],                        {\"template\":{\"data\":{\"bar\":[{\"error_x\":{\"color\":\"#2a3f5f\"},\"error_y\":{\"color\":\"#2a3f5f\"},\"marker\":{\"line\":{\"color\":\"#E5ECF6\",\"width\":0.5},\"pattern\":{\"fillmode\":\"overlay\",\"size\":10,\"solidity\":0.2}},\"type\":\"bar\"}],\"barpolar\":[{\"marker\":{\"line\":{\"color\":\"#E5ECF6\",\"width\":0.5},\"pattern\":{\"fillmode\":\"overlay\",\"size\":10,\"solidity\":0.2}},\"type\":\"barpolar\"}],\"carpet\":[{\"aaxis\":{\"endlinecolor\":\"#2a3f5f\",\"gridcolor\":\"white\",\"linecolor\":\"white\",\"minorgridcolor\":\"white\",\"startlinecolor\":\"#2a3f5f\"},\"baxis\":{\"endlinecolor\":\"#2a3f5f\",\"gridcolor\":\"white\",\"linecolor\":\"white\",\"minorgridcolor\":\"white\",\"startlinecolor\":\"#2a3f5f\"},\"type\":\"carpet\"}],\"choropleth\":[{\"colorbar\":{\"outlinewidth\":0,\"ticks\":\"\"},\"type\":\"choropleth\"}],\"contour\":[{\"colorbar\":{\"outlinewidth\":0,\"ticks\":\"\"},\"colorscale\":[[0.0,\"#0d0887\"],[0.1111111111111111,\"#46039f\"],[0.2222222222222222,\"#7201a8\"],[0.3333333333333333,\"#9c179e\"],[0.4444444444444444,\"#bd3786\"],[0.5555555555555556,\"#d8576b\"],[0.6666666666666666,\"#ed7953\"],[0.7777777777777778,\"#fb9f3a\"],[0.8888888888888888,\"#fdca26\"],[1.0,\"#f0f921\"]],\"type\":\"contour\"}],\"contourcarpet\":[{\"colorbar\":{\"outlinewidth\":0,\"ticks\":\"\"},\"type\":\"contourcarpet\"}],\"heatmap\":[{\"colorbar\":{\"outlinewidth\":0,\"ticks\":\"\"},\"colorscale\":[[0.0,\"#0d0887\"],[0.1111111111111111,\"#46039f\"],[0.2222222222222222,\"#7201a8\"],[0.3333333333333333,\"#9c179e\"],[0.4444444444444444,\"#bd3786\"],[0.5555555555555556,\"#d8576b\"],[0.6666666666666666,\"#ed7953\"],[0.7777777777777778,\"#fb9f3a\"],[0.8888888888888888,\"#fdca26\"],[1.0,\"#f0f921\"]],\"type\":\"heatmap\"}],\"heatmapgl\":[{\"colorbar\":{\"outlinewidth\":0,\"ticks\":\"\"},\"colorscale\":[[0.0,\"#0d0887\"],[0.1111111111111111,\"#46039f\"],[0.2222222222222222,\"#7201a8\"],[0.3333333333333333,\"#9c179e\"],[0.4444444444444444,\"#bd3786\"],[0.5555555555555556,\"#d8576b\"],[0.6666666666666666,\"#ed7953\"],[0.7777777777777778,\"#fb9f3a\"],[0.8888888888888888,\"#fdca26\"],[1.0,\"#f0f921\"]],\"type\":\"heatmapgl\"}],\"histogram\":[{\"marker\":{\"pattern\":{\"fillmode\":\"overlay\",\"size\":10,\"solidity\":0.2}},\"type\":\"histogram\"}],\"histogram2d\":[{\"colorbar\":{\"outlinewidth\":0,\"ticks\":\"\"},\"colorscale\":[[0.0,\"#0d0887\"],[0.1111111111111111,\"#46039f\"],[0.2222222222222222,\"#7201a8\"],[0.3333333333333333,\"#9c179e\"],[0.4444444444444444,\"#bd3786\"],[0.5555555555555556,\"#d8576b\"],[0.6666666666666666,\"#ed7953\"],[0.7777777777777778,\"#fb9f3a\"],[0.8888888888888888,\"#fdca26\"],[1.0,\"#f0f921\"]],\"type\":\"histogram2d\"}],\"histogram2dcontour\":[{\"colorbar\":{\"outlinewidth\":0,\"ticks\":\"\"},\"colorscale\":[[0.0,\"#0d0887\"],[0.1111111111111111,\"#46039f\"],[0.2222222222222222,\"#7201a8\"],[0.3333333333333333,\"#9c179e\"],[0.4444444444444444,\"#bd3786\"],[0.5555555555555556,\"#d8576b\"],[0.6666666666666666,\"#ed7953\"],[0.7777777777777778,\"#fb9f3a\"],[0.8888888888888888,\"#fdca26\"],[1.0,\"#f0f921\"]],\"type\":\"histogram2dcontour\"}],\"mesh3d\":[{\"colorbar\":{\"outlinewidth\":0,\"ticks\":\"\"},\"type\":\"mesh3d\"}],\"parcoords\":[{\"line\":{\"colorbar\":{\"outlinewidth\":0,\"ticks\":\"\"}},\"type\":\"parcoords\"}],\"pie\":[{\"automargin\":true,\"type\":\"pie\"}],\"scatter\":[{\"marker\":{\"colorbar\":{\"outlinewidth\":0,\"ticks\":\"\"}},\"type\":\"scatter\"}],\"scatter3d\":[{\"line\":{\"colorbar\":{\"outlinewidth\":0,\"ticks\":\"\"}},\"marker\":{\"colorbar\":{\"outlinewidth\":0,\"ticks\":\"\"}},\"type\":\"scatter3d\"}],\"scattercarpet\":[{\"marker\":{\"colorbar\":{\"outlinewidth\":0,\"ticks\":\"\"}},\"type\":\"scattercarpet\"}],\"scattergeo\":[{\"marker\":{\"colorbar\":{\"outlinewidth\":0,\"ticks\":\"\"}},\"type\":\"scattergeo\"}],\"scattergl\":[{\"marker\":{\"colorbar\":{\"outlinewidth\":0,\"ticks\":\"\"}},\"type\":\"scattergl\"}],\"scattermapbox\":[{\"marker\":{\"colorbar\":{\"outlinewidth\":0,\"ticks\":\"\"}},\"type\":\"scattermapbox\"}],\"scatterpolar\":[{\"marker\":{\"colorbar\":{\"outlinewidth\":0,\"ticks\":\"\"}},\"type\":\"scatterpolar\"}],\"scatterpolargl\":[{\"marker\":{\"colorbar\":{\"outlinewidth\":0,\"ticks\":\"\"}},\"type\":\"scatterpolargl\"}],\"scatterternary\":[{\"marker\":{\"colorbar\":{\"outlinewidth\":0,\"ticks\":\"\"}},\"type\":\"scatterternary\"}],\"surface\":[{\"colorbar\":{\"outlinewidth\":0,\"ticks\":\"\"},\"colorscale\":[[0.0,\"#0d0887\"],[0.1111111111111111,\"#46039f\"],[0.2222222222222222,\"#7201a8\"],[0.3333333333333333,\"#9c179e\"],[0.4444444444444444,\"#bd3786\"],[0.5555555555555556,\"#d8576b\"],[0.6666666666666666,\"#ed7953\"],[0.7777777777777778,\"#fb9f3a\"],[0.8888888888888888,\"#fdca26\"],[1.0,\"#f0f921\"]],\"type\":\"surface\"}],\"table\":[{\"cells\":{\"fill\":{\"color\":\"#EBF0F8\"},\"line\":{\"color\":\"white\"}},\"header\":{\"fill\":{\"color\":\"#C8D4E3\"},\"line\":{\"color\":\"white\"}},\"type\":\"table\"}]},\"layout\":{\"annotationdefaults\":{\"arrowcolor\":\"#2a3f5f\",\"arrowhead\":0,\"arrowwidth\":1},\"autotypenumbers\":\"strict\",\"coloraxis\":{\"colorbar\":{\"outlinewidth\":0,\"ticks\":\"\"}},\"colorscale\":{\"diverging\":[[0,\"#8e0152\"],[0.1,\"#c51b7d\"],[0.2,\"#de77ae\"],[0.3,\"#f1b6da\"],[0.4,\"#fde0ef\"],[0.5,\"#f7f7f7\"],[0.6,\"#e6f5d0\"],[0.7,\"#b8e186\"],[0.8,\"#7fbc41\"],[0.9,\"#4d9221\"],[1,\"#276419\"]],\"sequential\":[[0.0,\"#0d0887\"],[0.1111111111111111,\"#46039f\"],[0.2222222222222222,\"#7201a8\"],[0.3333333333333333,\"#9c179e\"],[0.4444444444444444,\"#bd3786\"],[0.5555555555555556,\"#d8576b\"],[0.6666666666666666,\"#ed7953\"],[0.7777777777777778,\"#fb9f3a\"],[0.8888888888888888,\"#fdca26\"],[1.0,\"#f0f921\"]],\"sequentialminus\":[[0.0,\"#0d0887\"],[0.1111111111111111,\"#46039f\"],[0.2222222222222222,\"#7201a8\"],[0.3333333333333333,\"#9c179e\"],[0.4444444444444444,\"#bd3786\"],[0.5555555555555556,\"#d8576b\"],[0.6666666666666666,\"#ed7953\"],[0.7777777777777778,\"#fb9f3a\"],[0.8888888888888888,\"#fdca26\"],[1.0,\"#f0f921\"]]},\"colorway\":[\"#636efa\",\"#EF553B\",\"#00cc96\",\"#ab63fa\",\"#FFA15A\",\"#19d3f3\",\"#FF6692\",\"#B6E880\",\"#FF97FF\",\"#FECB52\"],\"font\":{\"color\":\"#2a3f5f\"},\"geo\":{\"bgcolor\":\"white\",\"lakecolor\":\"white\",\"landcolor\":\"#E5ECF6\",\"showlakes\":true,\"showland\":true,\"subunitcolor\":\"white\"},\"hoverlabel\":{\"align\":\"left\"},\"hovermode\":\"closest\",\"mapbox\":{\"style\":\"light\"},\"paper_bgcolor\":\"white\",\"plot_bgcolor\":\"#E5ECF6\",\"polar\":{\"angularaxis\":{\"gridcolor\":\"white\",\"linecolor\":\"white\",\"ticks\":\"\"},\"bgcolor\":\"#E5ECF6\",\"radialaxis\":{\"gridcolor\":\"white\",\"linecolor\":\"white\",\"ticks\":\"\"}},\"scene\":{\"xaxis\":{\"backgroundcolor\":\"#E5ECF6\",\"gridcolor\":\"white\",\"gridwidth\":2,\"linecolor\":\"white\",\"showbackground\":true,\"ticks\":\"\",\"zerolinecolor\":\"white\"},\"yaxis\":{\"backgroundcolor\":\"#E5ECF6\",\"gridcolor\":\"white\",\"gridwidth\":2,\"linecolor\":\"white\",\"showbackground\":true,\"ticks\":\"\",\"zerolinecolor\":\"white\"},\"zaxis\":{\"backgroundcolor\":\"#E5ECF6\",\"gridcolor\":\"white\",\"gridwidth\":2,\"linecolor\":\"white\",\"showbackground\":true,\"ticks\":\"\",\"zerolinecolor\":\"white\"}},\"shapedefaults\":{\"line\":{\"color\":\"#2a3f5f\"}},\"ternary\":{\"aaxis\":{\"gridcolor\":\"white\",\"linecolor\":\"white\",\"ticks\":\"\"},\"baxis\":{\"gridcolor\":\"white\",\"linecolor\":\"white\",\"ticks\":\"\"},\"bgcolor\":\"#E5ECF6\",\"caxis\":{\"gridcolor\":\"white\",\"linecolor\":\"white\",\"ticks\":\"\"}},\"title\":{\"x\":0.05},\"xaxis\":{\"automargin\":true,\"gridcolor\":\"white\",\"linecolor\":\"white\",\"ticks\":\"\",\"title\":{\"standoff\":15},\"zerolinecolor\":\"white\",\"zerolinewidth\":2},\"yaxis\":{\"automargin\":true,\"gridcolor\":\"white\",\"linecolor\":\"white\",\"ticks\":\"\",\"title\":{\"standoff\":15},\"zerolinecolor\":\"white\",\"zerolinewidth\":2}}},\"xaxis\":{\"anchor\":\"y\",\"domain\":[0.0,1.0],\"title\":{\"text\":\"Status\"}},\"yaxis\":{\"anchor\":\"x\",\"domain\":[0.0,1.0],\"title\":{\"text\":\"count\"}},\"legend\":{\"title\":{\"text\":\"Classification\"},\"tracegroupgap\":0},\"margin\":{\"t\":60},\"barmode\":\"relative\"},                        {\"responsive\": true}                    ).then(function(){\n",
       "                            \n",
       "var gd = document.getElementById('1b7bf0f2-84bf-469c-bd37-c0afe9cdc1b6');\n",
       "var x = new MutationObserver(function (mutations, observer) {{\n",
       "        var display = window.getComputedStyle(gd).display;\n",
       "        if (!display || display === 'none') {{\n",
       "            console.log([gd, 'removed!']);\n",
       "            Plotly.purge(gd);\n",
       "            observer.disconnect();\n",
       "        }}\n",
       "}});\n",
       "\n",
       "// Listen for the removal of the full notebook cells\n",
       "var notebookContainer = gd.closest('#notebook-container');\n",
       "if (notebookContainer) {{\n",
       "    x.observe(notebookContainer, {childList: true});\n",
       "}}\n",
       "\n",
       "// Listen for the clearing of the current output cell\n",
       "var outputEl = gd.closest('.output');\n",
       "if (outputEl) {{\n",
       "    x.observe(outputEl, {childList: true});\n",
       "}}\n",
       "\n",
       "                        })                };                });            </script>        </div>"
      ]
     },
     "metadata": {},
     "output_type": "display_data"
    }
   ],
   "source": [
    "px.bar(sql('select Status,Classification,count(*) as count from X group by Status,Classification')\n",
    "       ,x='Status',y='count',color='Classification')"
   ]
  }
 ],
 "metadata": {
  "kernelspec": {
   "display_name": "Python 3 (ipykernel)",
   "language": "python",
   "name": "python3"
  },
  "language_info": {
   "codemirror_mode": {
    "name": "ipython",
    "version": 3
   },
   "file_extension": ".py",
   "mimetype": "text/x-python",
   "name": "python",
   "nbconvert_exporter": "python",
   "pygments_lexer": "ipython3",
   "version": "3.9.12"
  }
 },
 "nbformat": 4,
 "nbformat_minor": 5
}
